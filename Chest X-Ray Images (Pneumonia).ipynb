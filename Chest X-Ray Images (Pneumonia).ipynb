{
 "cells": [
  {
   "cell_type": "code",
   "execution_count": 1,
   "metadata": {
    "_cell_guid": "b1076dfc-b9ad-4769-8c92-a6c4dae69d19",
    "_uuid": "8f2839f25d086af736a60e9eeb907d3b93b6e0e5"
   },
   "outputs": [
    {
     "name": "stderr",
     "output_type": "stream",
     "text": [
      "Using TensorFlow backend.\n"
     ]
    }
   ],
   "source": [
    "import numpy as np # linear algebra\n",
    "import os\n",
    "from os.path import join\n",
    "from keras.applications.resnet50 import preprocess_input\n",
    "from keras.preprocessing.image import load_img, img_to_array\n",
    "from keras.models import Sequential\n",
    "from keras.layers import Dense, Dropout, Flatten\n",
    "from keras.layers import Conv2D, MaxPooling2D, ZeroPadding2D\n",
    "from keras.optimizers import SGD"
   ]
  },
  {
   "cell_type": "markdown",
   "metadata": {},
   "source": [
    "Load images."
   ]
  },
  {
   "cell_type": "code",
   "execution_count": 2,
   "metadata": {
    "_uuid": "c58b921805bc0afc8548599e30a5da8b6a73e310",
    "collapsed": true
   },
   "outputs": [],
   "source": [
    "def img_paths(image_dir):\n",
    "    image_filenames = os.listdir(image_dir)\n",
    "    return [join(image_dir, filename) for filename in image_filenames if not filename.endswith('.DS_Store')]"
   ]
  },
  {
   "cell_type": "code",
   "execution_count": 3,
   "metadata": {
    "_cell_guid": "79c7e3d0-c299-4dcb-8224-4455121ee9b0",
    "_uuid": "d629ff2d2480ee46fbb7e2d37f6b5fab8052498a",
    "collapsed": true
   },
   "outputs": [],
   "source": [
    "train_normal_dir = '../input/chest_xray/chest_xray/train/NORMAL'\n",
    "train_normal_paths = img_paths(train_normal_dir)\n",
    "train_pneumonia_dir = '../input/chest_xray/chest_xray/train/PNEUMONIA'\n",
    "train_pneumonia_paths = img_paths(train_pneumonia_dir)\n",
    "test_normal_dir = '../input/chest_xray/chest_xray/test/NORMAL'\n",
    "test_normal_paths = img_paths(test_normal_dir)\n",
    "test_pneumonia_dir = '../input/chest_xray/chest_xray/test/PNEUMONIA'\n",
    "test_pneumonia_paths = img_paths(test_pneumonia_dir)\n",
    "val_normal_dir = '../input/chest_xray/chest_xray/val/NORMAL'\n",
    "val_normal_paths = img_paths(val_normal_dir)\n",
    "val_pneumonia_dir = '../input/chest_xray/chest_xray/val/PNEUMONIA'\n",
    "val_pneumonia_paths = img_paths(val_pneumonia_dir)"
   ]
  },
  {
   "cell_type": "markdown",
   "metadata": {},
   "source": [
    "Prepare data."
   ]
  },
  {
   "cell_type": "code",
   "execution_count": 14,
   "metadata": {
    "_uuid": "42381228d50b5e0addeb70da84206a17bffd6baf",
    "collapsed": true
   },
   "outputs": [],
   "source": [
    "image_size = 224\n",
    "\n",
    "def read_and_prep_images(img_paths, img_height=image_size, img_width=image_size):\n",
    "    imgs = [load_img(img_path, target_size=(img_height, img_width), grayscale=True) for img_path in img_paths]\n",
    "    img_array = np.array([img_to_array(img) for img in imgs])\n",
    "    #return preprocess_input(img_array)\n",
    "    return img_array\n",
    "\n",
    "def make_data(normal_paths, pneumonia_paths):\n",
    "    normal = read_and_prep_images(normal_paths)\n",
    "    pneumonia = read_and_prep_images(pneumonia_paths)\n",
    "    #print(\"normal's shape: \", normal.shape)\n",
    "    #print(\"pneumonia's shape: \", pneumonia.shape)\n",
    "    X = np.concatenate((normal, pneumonia))\n",
    "    y = np.concatenate((np.zeros([normal.shape[0]], dtype=int), np.ones([pneumonia.shape[0]], dtype=int)))\n",
    "    return X, y"
   ]
  },
  {
   "cell_type": "code",
   "execution_count": 15,
   "metadata": {
    "_uuid": "e80f465c9dd2185f416763aac1eb4384b8af24c5"
   },
   "outputs": [
    {
     "name": "stdout",
     "output_type": "stream",
     "text": [
      "X_train's shape:  (5216, 224, 224, 1)\n",
      "y_train's shape:  (5216,)\n",
      "X_test's shape:  (624, 224, 224, 1)\n",
      "y_test's shape:  (624,)\n"
     ]
    }
   ],
   "source": [
    "X_train, y_train = make_data(train_normal_paths, train_pneumonia_paths)\n",
    "print(\"X_train's shape: \", X_train.shape)\n",
    "print(\"y_train's shape: \", y_train.shape)\n",
    "X_test, y_test = make_data(test_normal_paths, test_pneumonia_paths)\n",
    "print(\"X_test's shape: \", X_test.shape)\n",
    "print(\"y_test's shape: \", y_test.shape)"
   ]
  },
  {
   "cell_type": "markdown",
   "metadata": {},
   "source": [
    "Define hyperparameters."
   ]
  },
  {
   "cell_type": "code",
   "execution_count": 16,
   "metadata": {
    "_uuid": "53e2964a9695cd08353223891c24d46a453c0f7b",
    "collapsed": true
   },
   "outputs": [],
   "source": [
    "learning_rate = 0.0001\n",
    "batch_size = 128\n",
    "epochs = 5\n",
    "dropout = 0.25\n",
    "seed = 1"
   ]
  },
  {
   "cell_type": "markdown",
   "metadata": {
    "_uuid": "1c7f029d3ac99d383427b9ff2e9ad4280b7a904f"
   },
   "source": [
    "Model = (Conv2D + Maxpool) -> Conv2D -> FC -> FC -> softmax."
   ]
  },
  {
   "cell_type": "code",
   "execution_count": 17,
   "metadata": {
    "_uuid": "39e209fec457f37e802e7696004589e8712baf2c"
   },
   "outputs": [
    {
     "name": "stdout",
     "output_type": "stream",
     "text": [
      "Epoch 1/5\n",
      "5216/5216 [==============================] - 40s 8ms/step - loss: 4.0987 - acc: 0.7429\n",
      "Epoch 2/5\n",
      "5216/5216 [==============================] - 39s 7ms/step - loss: 4.0987 - acc: 0.7429\n",
      "Epoch 3/5\n",
      "5216/5216 [==============================] - 39s 8ms/step - loss: 4.0987 - acc: 0.7429\n",
      "Epoch 4/5\n",
      "5216/5216 [==============================] - 40s 8ms/step - loss: 4.0987 - acc: 0.7429\n",
      "Epoch 5/5\n",
      "5216/5216 [==============================] - 39s 8ms/step - loss: 4.0987 - acc: 0.7429\n",
      "624/624 [==============================] - 2s 3ms/step\n"
     ]
    }
   ],
   "source": [
    "model = Sequential()\n",
    "\n",
    "model.add(ZeroPadding2D((1, 1)))\n",
    "model.add(Conv2D(16, (4, 4), strides=(2, 2), activation='relu', input_shape=(image_size, image_size, 1)))\n",
    "model.add(MaxPooling2D((2, 2), strides=(2, 2)))\n",
    "model.add(Dropout(dropout, seed=seed))\n",
    "\n",
    "model.add(ZeroPadding2D((2, 2)))\n",
    "model.add(Conv2D(32, (8, 8), strides=(4, 4), activation='relu'))\n",
    "model.add(Dropout(dropout, seed=seed))\n",
    "\n",
    "model.add(Flatten())\n",
    "model.add(Dense(512, activation='relu'))\n",
    "model.add(Dropout(dropout, seed=seed))\n",
    "model.add(Dense(1, activation='softmax'))\n",
    "\n",
    "#sgd = SGD(lr=learning_rate, decay=1e-6, momentum=0.9, nesterov=True)\n",
    "#model.compile(loss='binary_crossentropy', optimizer=sgd)\n",
    "\n",
    "model.compile(optimizer='rmsprop',\n",
    "              loss='binary_crossentropy',\n",
    "              metrics=['accuracy'])\n",
    "\n",
    "model.fit(X_train, y_train, batch_size=batch_size, epochs=epochs)\n",
    "score = model.evaluate(X_test, y_test, batch_size=batch_size)"
   ]
  },
  {
   "cell_type": "markdown",
   "metadata": {},
   "source": [
    "Result:"
   ]
  },
  {
   "cell_type": "code",
   "execution_count": 18,
   "metadata": {
    "_uuid": "abf72d45b5f78566f02f5da12fe929cee5bd20e4"
   },
   "outputs": [
    {
     "name": "stdout",
     "output_type": "stream",
     "text": [
      "[5.978394016241433, 0.625]\n"
     ]
    }
   ],
   "source": [
    "print(score)"
   ]
  }
 ],
 "metadata": {
  "kernelspec": {
   "display_name": "Python 3",
   "language": "python",
   "name": "python3"
  },
  "language_info": {
   "codemirror_mode": {
    "name": "ipython",
    "version": 3
   },
   "file_extension": ".py",
   "mimetype": "text/x-python",
   "name": "python",
   "nbconvert_exporter": "python",
   "pygments_lexer": "ipython3",
   "version": "3.6.4"
  }
 },
 "nbformat": 4,
 "nbformat_minor": 1
}
